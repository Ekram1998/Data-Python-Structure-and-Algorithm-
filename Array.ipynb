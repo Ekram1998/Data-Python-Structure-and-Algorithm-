{
  "nbformat": 4,
  "nbformat_minor": 0,
  "metadata": {
    "colab": {
      "name": "Array.ipynb",
      "provenance": []
    },
    "kernelspec": {
      "name": "python3",
      "display_name": "Python 3"
    },
    "language_info": {
      "name": "python"
    }
  },
  "cells": [
    {
      "cell_type": "code",
      "execution_count": 23,
      "metadata": {
        "colab": {
          "base_uri": "https://localhost:8080/"
        },
        "id": "FPIWthYm5-M8",
        "outputId": "9536b2c5-1e7a-4268-ac25-89baac181d3f"
      },
      "outputs": [
        {
          "output_type": "stream",
          "name": "stdout",
          "text": [
            "Ekram Shethil\n"
          ]
        }
      ],
      "source": [
        "print('Ekram Shethil')"
      ]
    },
    {
      "cell_type": "code",
      "source": [
        "# What is the price on day3?\n",
        "\n",
        "stock_price=[298,305,320,301,292]\n",
        "print(stock_price[2])"
      ],
      "metadata": {
        "colab": {
          "base_uri": "https://localhost:8080/"
        },
        "id": "kmsevkqX6Mt2",
        "outputId": "7e176018-0d26-455e-9ed3-f675f8a2ef91"
      },
      "execution_count": 24,
      "outputs": [
        {
          "output_type": "stream",
          "name": "stdout",
          "text": [
            "320\n"
          ]
        }
      ]
    },
    {
      "cell_type": "code",
      "source": [
        "#On what day price was 301?\n",
        "\n",
        "for i in range(len(stock_price)):\n",
        "  if stock_price[i]==301:\n",
        "    print(i)"
      ],
      "metadata": {
        "colab": {
          "base_uri": "https://localhost:8080/"
        },
        "id": "nPViHZnT7JXo",
        "outputId": "35fff53d-b783-4f32-8ce2-40e161906f39"
      },
      "execution_count": 25,
      "outputs": [
        {
          "output_type": "stream",
          "name": "stdout",
          "text": [
            "3\n"
          ]
        }
      ]
    },
    {
      "cell_type": "code",
      "source": [
        "# print all prices\n",
        "\n",
        "for price in stock_price:\n",
        "  print(price)"
      ],
      "metadata": {
        "colab": {
          "base_uri": "https://localhost:8080/"
        },
        "id": "aHkm4nJz7hha",
        "outputId": "5e27dd9f-ff45-423b-a993-903937b3ba90"
      },
      "execution_count": 26,
      "outputs": [
        {
          "output_type": "stream",
          "name": "stdout",
          "text": [
            "298\n",
            "305\n",
            "320\n",
            "301\n",
            "292\n"
          ]
        }
      ]
    },
    {
      "cell_type": "code",
      "source": [
        "# Insert new price 284 at index 1\n",
        "\n",
        "stock_price.insert(1,284)\n",
        "print(stock_price)"
      ],
      "metadata": {
        "colab": {
          "base_uri": "https://localhost:8080/"
        },
        "id": "bSZA31HR72nQ",
        "outputId": "3046a82b-f02c-42c9-b210-0a6001ae5e7a"
      },
      "execution_count": 27,
      "outputs": [
        {
          "output_type": "stream",
          "name": "stdout",
          "text": [
            "[298, 284, 305, 320, 301, 292]\n"
          ]
        }
      ]
    },
    {
      "cell_type": "code",
      "source": [
        "# Delete element at index 1\n",
        "\n",
        "stock_price.pop(1)\n",
        "print(stock_price)"
      ],
      "metadata": {
        "colab": {
          "base_uri": "https://localhost:8080/"
        },
        "id": "JYEHaMTi8CSB",
        "outputId": "04b7ce87-99b2-4628-d2b2-c2fe00def384"
      },
      "execution_count": 28,
      "outputs": [
        {
          "output_type": "stream",
          "name": "stdout",
          "text": [
            "[298, 305, 320, 301, 292]\n"
          ]
        }
      ]
    },
    {
      "cell_type": "code",
      "source": [
        "# Index check\n",
        "\n",
        "numbers = [4,8,9,15,21,34,57,68,98,42]\n",
        "\n",
        "for i in range(len(numbers)):\n",
        "  if numbers[i]==68:\n",
        "    print(i)"
      ],
      "metadata": {
        "colab": {
          "base_uri": "https://localhost:8080/"
        },
        "id": "QUU1jZdWAlrK",
        "outputId": "2bed147e-26d2-497e-8daa-9080a21c4772"
      },
      "execution_count": 37,
      "outputs": [
        {
          "output_type": "stream",
          "name": "stdout",
          "text": [
            "7\n"
          ]
        }
      ]
    },
    {
      "cell_type": "code",
      "source": [
        "# Duplicate Number Check\n",
        "\n",
        "numbers = [3,6,2,4,3,6,8,9]\n",
        "\n",
        "for i in range(len(numbers)):\n",
        "  for j in range(i+1, len(numbers)):\n",
        "    if numbers[i]==numbers[j]:\n",
        "      print(\"It's a Duplicate Number :\",numbers[i])\n",
        "      break\n"
      ],
      "metadata": {
        "colab": {
          "base_uri": "https://localhost:8080/"
        },
        "id": "t7wP7aeE8u1u",
        "outputId": "4913e9b3-9a71-4b72-9592-eeee712636d8"
      },
      "execution_count": 36,
      "outputs": [
        {
          "output_type": "stream",
          "name": "stdout",
          "text": [
            "It's a Duplicate Number : 3\n",
            "It's a Duplicate Number : 6\n"
          ]
        }
      ]
    },
    {
      "cell_type": "code",
      "source": [
        ""
      ],
      "metadata": {
        "id": "nf0o7J1Y_jTz"
      },
      "execution_count": null,
      "outputs": []
    }
  ]
}